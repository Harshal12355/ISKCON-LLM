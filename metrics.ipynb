{
 "cells": [
  {
   "cell_type": "code",
   "execution_count": 34,
   "metadata": {},
   "outputs": [],
   "source": [
    "import nltk.translate.bleu_score as bleu\n",
    "import pandas as pd\n",
    "from sklearn.metrics import accuracy_score, precision_score, recall_score, f1_score\n",
    "from rouge_score import rouge_scorer\n",
    "import importlib\n",
    "import chatbot\n",
    "import models.instances.chatgpt\n",
    "import models.instances.mistral\n",
    "importlib.reload(chatbot)\n",
    "importlib.reload(models.instances.chatgpt)\n",
    "importlib.reload(models.instances.mistral)\n",
    "from chatbot import chatbot_instance\n",
    "from models.instances.mistral import mistral_chat_instance\n",
    "from models.instances.chatgpt import openai_chat_instance"
   ]
  },
  {
   "cell_type": "code",
   "execution_count": 26,
   "metadata": {},
   "outputs": [
    {
     "data": {
      "text/plain": [
       "True"
      ]
     },
     "execution_count": 26,
     "metadata": {},
     "output_type": "execute_result"
    }
   ],
   "source": [
    "from dotenv import load_dotenv\n",
    "load_dotenv()"
   ]
  },
  {
   "cell_type": "markdown",
   "metadata": {},
   "source": [
    "### OpenAI"
   ]
  },
  {
   "cell_type": "code",
   "execution_count": 35,
   "metadata": {},
   "outputs": [
    {
     "name": "stdout",
     "output_type": "stream",
     "text": [
      "Response:  Sanskrit Transliteration:\n",
      "यत्र योगेश्वरः कृष्णो यत्र पार्थो धनुर्धरः।\n",
      "तत्र श्रीर्विजयो भूतिर्ध्रुवा नीतिर्मतिर्मम।।\n",
      "\n",
      "English Translation (BG 18.78):\n",
      "Wherever there is Lord Krishna, the master of yoga, and wherever there is Arjuna, the supreme archer, there will also certainly be opulence, victory, extraordinary power, and morality. This is my opinion.\n",
      "\n",
      "Explanation:\n",
      "The purpose of life, according to the Bhagavad Gita, is to establish a loving relationship with Lord Krishna, the Supreme Personality of Godhead. When we engage in devotional service to Krishna, following His instructions as given in the Gita, we can achieve true success and fulfillment in life. Just like Arjuna followed Krishna's guidance on the battlefield of Kurukshetra and attained victory, we too can achieve success in our lives by surrendering to Krishna and following His teachings.\n",
      "\n",
      "Practical Guidance:\n",
      "To apply this teaching in our daily lives, we should strive to develop a personal relationship with Krishna through the practice of bhakti-yoga. This includes chanting the Hare Krishna mantra, reading the Bhagavad Gita regularly, and engaging in devotional activities that please the Lord. By dedicating our thoughts, words, and actions to Krishna, we can experience His presence in our lives and receive His blessings.\n",
      "\n",
      "Encouragement:\n",
      "Remember that Krishna is always with us, guiding and protecting us at every step. By surrendering to Him and following His instructions with faith and determination, we can attain true success and happiness in life. Keep striving to deepen your relationship with Krishna and continue on your spiritual journey with enthusiasm and devotion. Krishna will surely bless you with His mercy and grace. Hare Krishna!\n"
     ]
    }
   ],
   "source": [
    "# Query the chatbot\n",
    "response = openai_chat_instance.query(\"What is the purpose of life?\")\n",
    "print(\"Response: \", response[\"messages\"][-1][\"content\"])\n"
   ]
  },
  {
   "cell_type": "markdown",
   "metadata": {},
   "source": [
    "### Mistral"
   ]
  },
  {
   "cell_type": "code",
   "execution_count": 36,
   "metadata": {},
   "outputs": [
    {
     "name": "stdout",
     "output_type": "stream",
     "text": [
      "Response:   The purpose of life is enlightened by Lord Krishna in Bhagavad-gita (4.16):\n",
      "> arjuna vishada-vasam\n",
      "> buddhi-yogam samatikramate\n",
      "> naitat samniedayamyaham\n",
      "> sarva-sammohasudhau bhrata\n",
      "\n",
      "Translated as: \"Arjuna, when the intelligence is thus purified, one attains to My understanding through intelligence alone without delusion, O Arjun.\"\n",
      "\n",
      "In simpler terms, the purpose of life is to develop intelligence and purify it so that we can understand God (Krishna) and our relationship with Him. This is achieved by engaging in the practice of Bhakti-yoga, or devotional service, which helps us cultivate love for God through various spiritual practices such as chanting the Hare Krishna mantra, reading scriptures, serving others selflessly, etc.\n",
      "\n",
      "One common misconception is that material accomplishments or personal happiness are the purpose of life. However, Bhagavad-gita clearly teaches (2.45) that even the most exalted material achievements are transient and temporary: \"na te viduh sarva eva, mam anantim tame matayo, yan matisye na labhyate, prana-samyogaya ca.\"\n",
      "\n",
      "To apply these teachings in our daily lives, we should try to develop detachment towards materialistic pursuits and focus on strengthening our relationship with Krishna. This does not mean neglecting our duties or responsibilities; rather, it involves performing them as offerings to God while keeping our minds focused on Him.\n",
      "\n",
      "To further deepen your understanding of the Bhagavad Gita's teachings, I would recommend studying Chapter 18, which is dedicated entirely to the glories and qualities of Krishna. Additionally, you may find Srila Prabhupada's books \"Bhagavad-gita As It Is\" and \"Srimad Bhagavatam\" to be invaluable resources for spiritual growth.\n",
      "\n",
      "Remember, life is a journey towards understanding God and our relationship with Him; it is a process of growth, learning, and evolution. With faith and determination, you will find the path to Krishna consciousness. Hare Krishna!\n"
     ]
    }
   ],
   "source": [
    "# Query the chatbot\n",
    "response = mistral_chat_instance.query(\"What is the purpose of life?\")\n",
    "print(\"Response: \", response[\"messages\"][-1][\"content\"])\n"
   ]
  },
  {
   "cell_type": "markdown",
   "metadata": {},
   "source": [
    "### Generating answers for all the questions"
   ]
  },
  {
   "cell_type": "code",
   "execution_count": 57,
   "metadata": {},
   "outputs": [],
   "source": [
    "# Load the CSV\n",
    "data = pd.read_csv(\"evaluation_data/q&a.csv\")\n",
    "\n",
    "def generate_answers(instance):\n",
    "    generated_answers = []\n",
    "    for question in data[\"question\"]:\n",
    "        response = instance.query(question)\n",
    "        generated_answers.append(response[\"messages\"][-1][\"content\"])\n",
    "\n",
    "    return generated_answers\n",
    "\n",
    "# Add generated answers to the dataframe\n",
    "data[\"open_ai_generated_answer\"] = generate_answers(openai_chat_instance)\n",
    "data[\"mistral_generated_answer\"] = generate_answers(mistral_chat_instance)"
   ]
  },
  {
   "cell_type": "code",
   "execution_count": 58,
   "metadata": {},
   "outputs": [
    {
     "data": {
      "text/html": [
       "<div>\n",
       "<style scoped>\n",
       "    .dataframe tbody tr th:only-of-type {\n",
       "        vertical-align: middle;\n",
       "    }\n",
       "\n",
       "    .dataframe tbody tr th {\n",
       "        vertical-align: top;\n",
       "    }\n",
       "\n",
       "    .dataframe thead th {\n",
       "        text-align: right;\n",
       "    }\n",
       "</style>\n",
       "<table border=\"1\" class=\"dataframe\">\n",
       "  <thead>\n",
       "    <tr style=\"text-align: right;\">\n",
       "      <th></th>\n",
       "      <th>question</th>\n",
       "      <th>answer</th>\n",
       "      <th>open_ai_generated_answer</th>\n",
       "      <th>mistral_generated_answer</th>\n",
       "    </tr>\n",
       "  </thead>\n",
       "  <tbody>\n",
       "    <tr>\n",
       "      <th>0</th>\n",
       "      <td>Why is the Bhagavad-Gita the perfect theistic ...</td>\n",
       "      <td>\"It is the perfect theistic science because it...</td>\n",
       "      <td>Sanskrit Transliteration:\\nश्रीभगवानुवाच |\\nइम...</td>\n",
       "      <td>The Bhagavad-Gita is described as the \"perfec...</td>\n",
       "    </tr>\n",
       "    <tr>\n",
       "      <th>1</th>\n",
       "      <td>Why was Dhritarashtra fearful about the outcom...</td>\n",
       "      <td>\"Because the battle was arranged to be fought ...</td>\n",
       "      <td>Sanskrit Transliteration:\\nधृतराष्ट्र उवाच |\\n...</td>\n",
       "      <td>In response to your question about Dhritarash...</td>\n",
       "    </tr>\n",
       "    <tr>\n",
       "      <th>2</th>\n",
       "      <td>What is Duryodhana's purpose in speaking to Dr...</td>\n",
       "      <td>Duryodhana pointed out that Drona trained Dris...</td>\n",
       "      <td>Sanskrit Transliteration:\\nअश्रुपूर्णाकुलेक्षण...</td>\n",
       "      <td>In response to your question about Duryodhana...</td>\n",
       "    </tr>\n",
       "    <tr>\n",
       "      <th>3</th>\n",
       "      <td>4.Name four powerful fighters each on the side...</td>\n",
       "      <td>Kaurava's Side:\\n-Drona\\n-Bhisma\\n-Karna\\n-Kri...</td>\n",
       "      <td>In the Bhagavad Gita, Lord Krishna explains th...</td>\n",
       "      <td>In response to your question about four power...</td>\n",
       "    </tr>\n",
       "    <tr>\n",
       "      <th>4</th>\n",
       "      <td>Describe the significance of the blowing of co...</td>\n",
       "      <td>-\"The sounding of the transcendental conchshel...</td>\n",
       "      <td>Sanskrit Transliteration:\\nअथ व्यवस्थितान्दृष्...</td>\n",
       "      <td>In response to your question about the signif...</td>\n",
       "    </tr>\n",
       "    <tr>\n",
       "      <th>...</th>\n",
       "      <td>...</td>\n",
       "      <td>...</td>\n",
       "      <td>...</td>\n",
       "      <td>...</td>\n",
       "    </tr>\n",
       "    <tr>\n",
       "      <th>134</th>\n",
       "      <td>What was Arjuna's question to Krishna towards ...</td>\n",
       "      <td>What is the destination of the transcendentali...</td>\n",
       "      <td>\\nThe question that Arjuna asked Krishna towar...</td>\n",
       "      <td>Arjuna's question towards the end of Chapter ...</td>\n",
       "    </tr>\n",
       "    <tr>\n",
       "      <th>135</th>\n",
       "      <td>What happens to one who falls down after pract...</td>\n",
       "      <td>After enjoying life on the higher planets for ...</td>\n",
       "      <td>Sanskrit Transliteration:\\nअप्राप्य योगसंसिद्ध...</td>\n",
       "      <td>BG 6.41 (Chapter 6, Verse 41):\\n&gt; arjuna uvāc...</td>\n",
       "    </tr>\n",
       "    <tr>\n",
       "      <th>136</th>\n",
       "      <td>What happens to one who falls down after pract...</td>\n",
       "      <td>He achieves the rare opportunity of taking bir...</td>\n",
       "      <td>Sanskrit Transliteration:\\nyoginām api sarveṣā...</td>\n",
       "      <td>The verse you are referring to is Bhagavad-gī...</td>\n",
       "    </tr>\n",
       "    <tr>\n",
       "      <th>137</th>\n",
       "      <td>Define yoga. Define various types of yogas in ...</td>\n",
       "      <td>a) Yoga: linking our consciousness with the Su...</td>\n",
       "      <td>Sanskrit Transliteration:\\nयोगः कर्मसु कौशलं (...</td>\n",
       "      <td>In the sacred text of Bhagavad-gita (6.46), Y...</td>\n",
       "    </tr>\n",
       "    <tr>\n",
       "      <th>138</th>\n",
       "      <td>The culmination of all kinds of yoga practices...</td>\n",
       "      <td>\"All yogas are progressions toward the destina...</td>\n",
       "      <td>Sanskrit Transliteration:\\nयोगिनामपि सर्वेषां ...</td>\n",
       "      <td>BG 6.47 (Karma-yoga):\\n\\n&gt; arjuna vishada-vas...</td>\n",
       "    </tr>\n",
       "  </tbody>\n",
       "</table>\n",
       "<p>139 rows × 4 columns</p>\n",
       "</div>"
      ],
      "text/plain": [
       "                                              question  ...                           mistral_generated_answer\n",
       "0    Why is the Bhagavad-Gita the perfect theistic ...  ...   The Bhagavad-Gita is described as the \"perfec...\n",
       "1    Why was Dhritarashtra fearful about the outcom...  ...   In response to your question about Dhritarash...\n",
       "2    What is Duryodhana's purpose in speaking to Dr...  ...   In response to your question about Duryodhana...\n",
       "3    4.Name four powerful fighters each on the side...  ...   In response to your question about four power...\n",
       "4    Describe the significance of the blowing of co...  ...   In response to your question about the signif...\n",
       "..                                                 ...  ...                                                ...\n",
       "134  What was Arjuna's question to Krishna towards ...  ...   Arjuna's question towards the end of Chapter ...\n",
       "135  What happens to one who falls down after pract...  ...   BG 6.41 (Chapter 6, Verse 41):\\n> arjuna uvāc...\n",
       "136  What happens to one who falls down after pract...  ...   The verse you are referring to is Bhagavad-gī...\n",
       "137  Define yoga. Define various types of yogas in ...  ...   In the sacred text of Bhagavad-gita (6.46), Y...\n",
       "138  The culmination of all kinds of yoga practices...  ...   BG 6.47 (Karma-yoga):\\n\\n> arjuna vishada-vas...\n",
       "\n",
       "[139 rows x 4 columns]"
      ]
     },
     "execution_count": 58,
     "metadata": {},
     "output_type": "execute_result"
    }
   ],
   "source": [
    "data"
   ]
  },
  {
   "cell_type": "code",
   "execution_count": 59,
   "metadata": {},
   "outputs": [],
   "source": [
    "# Save the updated CSV\n",
    "data.to_csv(\"evaluation_data/questions_and_answers_with_predictions_5_shot_template.csv\", index=False)"
   ]
  },
  {
   "cell_type": "code",
   "execution_count": 60,
   "metadata": {},
   "outputs": [],
   "source": [
    "data = pd.read_csv(\"evaluation_data/questions_and_answers_with_predictions_5_shot_template.csv\")"
   ]
  },
  {
   "cell_type": "markdown",
   "metadata": {},
   "source": [
    "### Rouge and BLEU Score"
   ]
  },
  {
   "cell_type": "code",
   "execution_count": 63,
   "metadata": {},
   "outputs": [
    {
     "name": "stderr",
     "output_type": "stream",
     "text": [
      "c:\\Users\\harsh\\Documents\\Github\\ISKCON-LLM\\venv\\lib\\site-packages\\nltk\\translate\\bleu_score.py:577: UserWarning: \n",
      "The hypothesis contains 0 counts of 3-gram overlaps.\n",
      "Therefore the BLEU score evaluates to 0, independently of\n",
      "how many N-gram overlaps of lower order it contains.\n",
      "Consider using lower n-gram order or use SmoothingFunction()\n",
      "  warnings.warn(_msg)\n",
      "c:\\Users\\harsh\\Documents\\Github\\ISKCON-LLM\\venv\\lib\\site-packages\\nltk\\translate\\bleu_score.py:577: UserWarning: \n",
      "The hypothesis contains 0 counts of 4-gram overlaps.\n",
      "Therefore the BLEU score evaluates to 0, independently of\n",
      "how many N-gram overlaps of lower order it contains.\n",
      "Consider using lower n-gram order or use SmoothingFunction()\n",
      "  warnings.warn(_msg)\n",
      "c:\\Users\\harsh\\Documents\\Github\\ISKCON-LLM\\venv\\lib\\site-packages\\nltk\\translate\\bleu_score.py:577: UserWarning: \n",
      "The hypothesis contains 0 counts of 2-gram overlaps.\n",
      "Therefore the BLEU score evaluates to 0, independently of\n",
      "how many N-gram overlaps of lower order it contains.\n",
      "Consider using lower n-gram order or use SmoothingFunction()\n",
      "  warnings.warn(_msg)\n"
     ]
    },
    {
     "name": "stdout",
     "output_type": "stream",
     "text": [
      "Average BLEU Score: 0.0058\n",
      "Average ROUGE-1 F1 Score: 0.1336\n",
      "Average ROUGE-2 F1 Score: 0.0336\n",
      "Average ROUGE-L F1 Score: 0.0905\n"
     ]
    }
   ],
   "source": [
    "from nltk.translate.bleu_score import sentence_bleu\n",
    "from rouge_score import rouge_scorer\n",
    "import pandas as pd\n",
    "\n",
    "# Initialize ROUGE scorer\n",
    "scorer = rouge_scorer.RougeScorer(['rouge1', 'rouge2', 'rougeL'], use_stemmer=True)\n",
    "\n",
    "# Function to calculate BLEU and ROUGE\n",
    "def calculate_scores(reference, hypothesis):\n",
    "    # Calculate BLEU\n",
    "    bleu_score = sentence_bleu([reference.split()], hypothesis.split())\n",
    "\n",
    "    # Calculate ROUGE\n",
    "    rouge_scores = scorer.score(reference, hypothesis)\n",
    "\n",
    "    return bleu_score, rouge_scores\n",
    "\n",
    "# Compute scores\n",
    "bleu_scores = []\n",
    "rouge_scores = []\n",
    "\n",
    "for _, row in data.iterrows():\n",
    "    reference = row[\"answer\"]\n",
    "    hypothesis = row[\"open_ai_generated_answer\"]\n",
    "\n",
    "    bleu, rouge = calculate_scores(reference, hypothesis)\n",
    "    bleu_scores.append(bleu)\n",
    "    rouge_scores.append(rouge)\n",
    "\n",
    "# Add scores to the dataframe\n",
    "data[\"bleu_score\"] = bleu_scores\n",
    "data[\"rouge1\"] = [r[\"rouge1\"].fmeasure for r in rouge_scores]\n",
    "data[\"rouge2\"] = [r[\"rouge2\"].fmeasure for r in rouge_scores]\n",
    "data[\"rougeL\"] = [r[\"rougeL\"].fmeasure for r in rouge_scores]\n",
    "\n",
    "# Save the results\n",
    "data.to_csv(\"open_ai_evaluation_results.csv\", index=False)\n",
    "\n",
    "# Display average scores\n",
    "print(f\"Average BLEU Score: {data['bleu_score'].mean():.4f}\")\n",
    "print(f\"Average ROUGE-1 F1 Score: {data['rouge1'].mean():.4f}\")\n",
    "print(f\"Average ROUGE-2 F1 Score: {data['rouge2'].mean():.4f}\")\n",
    "print(f\"Average ROUGE-L F1 Score: {data['rougeL'].mean():.4f}\")\n"
   ]
  },
  {
   "cell_type": "code",
   "execution_count": 64,
   "metadata": {},
   "outputs": [
    {
     "name": "stderr",
     "output_type": "stream",
     "text": [
      "c:\\Users\\harsh\\Documents\\Github\\ISKCON-LLM\\venv\\lib\\site-packages\\nltk\\translate\\bleu_score.py:577: UserWarning: \n",
      "The hypothesis contains 0 counts of 4-gram overlaps.\n",
      "Therefore the BLEU score evaluates to 0, independently of\n",
      "how many N-gram overlaps of lower order it contains.\n",
      "Consider using lower n-gram order or use SmoothingFunction()\n",
      "  warnings.warn(_msg)\n",
      "c:\\Users\\harsh\\Documents\\Github\\ISKCON-LLM\\venv\\lib\\site-packages\\nltk\\translate\\bleu_score.py:577: UserWarning: \n",
      "The hypothesis contains 0 counts of 3-gram overlaps.\n",
      "Therefore the BLEU score evaluates to 0, independently of\n",
      "how many N-gram overlaps of lower order it contains.\n",
      "Consider using lower n-gram order or use SmoothingFunction()\n",
      "  warnings.warn(_msg)\n",
      "c:\\Users\\harsh\\Documents\\Github\\ISKCON-LLM\\venv\\lib\\site-packages\\nltk\\translate\\bleu_score.py:577: UserWarning: \n",
      "The hypothesis contains 0 counts of 2-gram overlaps.\n",
      "Therefore the BLEU score evaluates to 0, independently of\n",
      "how many N-gram overlaps of lower order it contains.\n",
      "Consider using lower n-gram order or use SmoothingFunction()\n",
      "  warnings.warn(_msg)\n"
     ]
    },
    {
     "name": "stdout",
     "output_type": "stream",
     "text": [
      "Average BLEU Score: 0.0017\n",
      "Average ROUGE-1 F1 Score: 0.1218\n",
      "Average ROUGE-2 F1 Score: 0.0220\n",
      "Average ROUGE-L F1 Score: 0.0776\n"
     ]
    }
   ],
   "source": [
    "# Compute scores\n",
    "bleu_scores = []\n",
    "rouge_scores = []\n",
    "\n",
    "for _, row in data.iterrows():\n",
    "    reference = row[\"answer\"]\n",
    "    hypothesis = row[\"mistral_generated_answer\"]\n",
    "\n",
    "    bleu, rouge = calculate_scores(reference, hypothesis)\n",
    "    bleu_scores.append(bleu)\n",
    "    rouge_scores.append(rouge)\n",
    "\n",
    "# Add scores to the dataframe\n",
    "data[\"bleu_score\"] = bleu_scores\n",
    "data[\"rouge1\"] = [r[\"rouge1\"].fmeasure for r in rouge_scores]\n",
    "data[\"rouge2\"] = [r[\"rouge2\"].fmeasure for r in rouge_scores]\n",
    "data[\"rougeL\"] = [r[\"rougeL\"].fmeasure for r in rouge_scores]\n",
    "\n",
    "# Save the results\n",
    "data.to_csv(\"mistral_evaluation_results.csv\", index=False)\n",
    "\n",
    "# Display average scores\n",
    "print(f\"Average BLEU Score: {data['bleu_score'].mean():.4f}\")\n",
    "print(f\"Average ROUGE-1 F1 Score: {data['rouge1'].mean():.4f}\")\n",
    "print(f\"Average ROUGE-2 F1 Score: {data['rouge2'].mean():.4f}\")\n",
    "print(f\"Average ROUGE-L F1 Score: {data['rougeL'].mean():.4f}\")"
   ]
  }
 ],
 "metadata": {
  "kernelspec": {
   "display_name": "venv",
   "language": "python",
   "name": "python3"
  },
  "language_info": {
   "codemirror_mode": {
    "name": "ipython",
    "version": 3
   },
   "file_extension": ".py",
   "mimetype": "text/x-python",
   "name": "python",
   "nbconvert_exporter": "python",
   "pygments_lexer": "ipython3",
   "version": "3.10.11"
  }
 },
 "nbformat": 4,
 "nbformat_minor": 2
}
