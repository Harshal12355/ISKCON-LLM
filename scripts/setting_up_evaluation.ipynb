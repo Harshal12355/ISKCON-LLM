{
 "cells": [
  {
   "cell_type": "code",
   "execution_count": 2,
   "metadata": {},
   "outputs": [],
   "source": [
    "import pandas as pd\n",
    "pd.set_option('display.max_colwidth', None)"
   ]
  },
  {
   "cell_type": "code",
   "execution_count": 3,
   "metadata": {},
   "outputs": [
    {
     "data": {
      "text/html": [
       "<div>\n",
       "<style scoped>\n",
       "    .dataframe tbody tr th:only-of-type {\n",
       "        vertical-align: middle;\n",
       "    }\n",
       "\n",
       "    .dataframe tbody tr th {\n",
       "        vertical-align: top;\n",
       "    }\n",
       "\n",
       "    .dataframe thead th {\n",
       "        text-align: right;\n",
       "    }\n",
       "</style>\n",
       "<table border=\"1\" class=\"dataframe\">\n",
       "  <thead>\n",
       "    <tr style=\"text-align: right;\">\n",
       "      <th></th>\n",
       "      <th>question</th>\n",
       "      <th>answer</th>\n",
       "    </tr>\n",
       "  </thead>\n",
       "  <tbody>\n",
       "    <tr>\n",
       "      <th>0</th>\n",
       "      <td>Why is the Bhagavad-Gita the perfect theistic science? (1.1)</td>\n",
       "      <td>\"It is the perfect theistic science because it is directly spoken by the Supreme Personality of Godhead, Lord Śrī Kṛṣṇa.\"</td>\n",
       "    </tr>\n",
       "    <tr>\n",
       "      <th>1</th>\n",
       "      <td>Why was Dhritarashtra fearful about the outcome of the battle? (1.1)</td>\n",
       "      <td>\"Because the battle was arranged to be fought at Kurukṣetra, which is mentioned elsewhere in the Vedas as a place of worship - even for the denizens of heaven - Dhṛtarāṣṭra became very fearful about the influence of the holy place on the outcome of the battle. He knew very well that this would influence Arjuna and the sons of Pāṇḍu favorably, because by nature they were all virtuous.\"</td>\n",
       "    </tr>\n",
       "    <tr>\n",
       "      <th>2</th>\n",
       "      <td>What is Duryodhana's purpose in speaking to Dronacarya?</td>\n",
       "      <td>Duryodhana pointed out that Drona trained Dristadyumna, even though he was destined to kill Drona.... Drona did this because Dristadyumna was in the right caste and he thought he deserved to learn...\"Duryodhana pointed out this mistake of Droṇācārya's so that he might be alert and uncompromising in the fighting. By this he wanted to point out also that he should not be similarly lenient in battle against the Pāṇḍavas- such leniency would lead to defeat.\"</td>\n",
       "    </tr>\n",
       "    <tr>\n",
       "      <th>3</th>\n",
       "      <td>4.Name four powerful fighters each on the side of the Kauravas and the Pandavas. (1.4-1.6, 1.8)</td>\n",
       "      <td>Kaurava's Side:\\n-Drona\\n-Bhisma\\n-Karna\\n-Kripacarya\\n\\nPandava's Side:\\n-Arjuna\\n-Bhima\\n-Virata\\n-Drupada\\n-Abhimanyu</td>\n",
       "    </tr>\n",
       "    <tr>\n",
       "      <th>4</th>\n",
       "      <td>Describe the significance of the blowing of conchshells on both the sides. (1.14, 1.19)</td>\n",
       "      <td>-\"The sounding of the transcendental conchshells of Krsna and Arjuna indicated that there was no hope of victory for the other side because Kṛṣṇa was on the side of the Pāṇḍavas.'\"\\n-While there was no fear in the Pandava's hearts when the Kaurava's blew their conch shells, \"the hearts of the sons of Dhṛtarāṣṭra were shattered by the sounds vibrated by the Pāṇḍavas' party. This is due to the Pāṇḍavas and their confidence in Lord Kṛṣṇa. One who takes shelter of the Supreme Lord has nothing to fear, even in the midst of the greatest calamity.\"</td>\n",
       "    </tr>\n",
       "    <tr>\n",
       "      <th>...</th>\n",
       "      <td>...</td>\n",
       "      <td>...</td>\n",
       "    </tr>\n",
       "    <tr>\n",
       "      <th>134</th>\n",
       "      <td>What was Arjuna's question to Krishna towards the end of this chapter? (6.37, 6.38)</td>\n",
       "      <td>What is the destination of the transcendentalist who practiced yoga, but later stopped because of attachment to worldly things? Is such a person unable to enjoy material happiness or spiritual success and does he become forgotten?</td>\n",
       "    </tr>\n",
       "    <tr>\n",
       "      <th>135</th>\n",
       "      <td>What happens to one who falls down after practicing yoga for a short time? (6.41)</td>\n",
       "      <td>After enjoying life on the higher planets for a long time, he comes back to the Earth and takes birth in a pious or an aristocratic family.</td>\n",
       "    </tr>\n",
       "    <tr>\n",
       "      <th>136</th>\n",
       "      <td>What happens to one who falls down after practicing yoga for a long time? (6.42, 6.43)</td>\n",
       "      <td>He achieves the rare opportunity of taking birth in a family of transcendentalists that are great in wisdom. \"the child born in such a family receives a spiritual impetus from the very beginning of his life....such families are very learned and devoted by tradition and training.\"</td>\n",
       "    </tr>\n",
       "    <tr>\n",
       "      <th>137</th>\n",
       "      <td>Define yoga. Define various types of yogas in relation to this definition of yoga. (6.46)</td>\n",
       "      <td>a) Yoga: linking our consciousness with the Supreme Absolute Truth\\nb) When the linking process is predominantly in fruitive activities it is called karma-yoga, when it is predominantly empirical it is called jñāna-yoga, and when it is predominantly in a devotional relationship with the Supreme Lord it is called bhakti-yoga.</td>\n",
       "    </tr>\n",
       "    <tr>\n",
       "      <th>138</th>\n",
       "      <td>The culmination of all kinds of yoga practices lies in bhakti yoga. Explain. (6.47)</td>\n",
       "      <td>\"All yogas are progressions toward the destination of bhakti-yoga:\\n-Karma-yoga, without fruitive results, is the beginning of this path.\\n-When karma-yoga increases in knowledge and renunciation, the stage is called jñāna-yoga.\\n-When jñāna-yoga increases in meditation on the Supersoul by different physical processes, and the mind is on Him, it is called aṣṭāṅga-yoga.\\n-And when one surpasses the aṣṭāṅga-yoga and comes to the point of the Supreme Personality of Godhead Kṛṣṇa, it is called bhakti-yoga, the culmination.\"</td>\n",
       "    </tr>\n",
       "  </tbody>\n",
       "</table>\n",
       "<p>139 rows × 2 columns</p>\n",
       "</div>"
      ],
      "text/plain": [
       "                                                                                            question  \\\n",
       "0                                       Why is the Bhagavad-Gita the perfect theistic science? (1.1)   \n",
       "1                               Why was Dhritarashtra fearful about the outcome of the battle? (1.1)   \n",
       "2                                            What is Duryodhana's purpose in speaking to Dronacarya?   \n",
       "3    4.Name four powerful fighters each on the side of the Kauravas and the Pandavas. (1.4-1.6, 1.8)   \n",
       "4            Describe the significance of the blowing of conchshells on both the sides. (1.14, 1.19)   \n",
       "..                                                                                               ...   \n",
       "134              What was Arjuna's question to Krishna towards the end of this chapter? (6.37, 6.38)   \n",
       "135                What happens to one who falls down after practicing yoga for a short time? (6.41)   \n",
       "136           What happens to one who falls down after practicing yoga for a long time? (6.42, 6.43)   \n",
       "137        Define yoga. Define various types of yogas in relation to this definition of yoga. (6.46)   \n",
       "138              The culmination of all kinds of yoga practices lies in bhakti yoga. Explain. (6.47)   \n",
       "\n",
       "                                                                                                                                                                                                                                                                                                                                                                                                                                                                                                                                                                  answer  \n",
       "0                                                                                                                                                                                                                                                                                                                                                                                                                                              \"It is the perfect theistic science because it is directly spoken by the Supreme Personality of Godhead, Lord Śrī Kṛṣṇa.\"  \n",
       "1                                                                                                                                                                    \"Because the battle was arranged to be fought at Kurukṣetra, which is mentioned elsewhere in the Vedas as a place of worship - even for the denizens of heaven - Dhṛtarāṣṭra became very fearful about the influence of the holy place on the outcome of the battle. He knew very well that this would influence Arjuna and the sons of Pāṇḍu favorably, because by nature they were all virtuous.\"  \n",
       "2                                                                                             Duryodhana pointed out that Drona trained Dristadyumna, even though he was destined to kill Drona.... Drona did this because Dristadyumna was in the right caste and he thought he deserved to learn...\"Duryodhana pointed out this mistake of Droṇācārya's so that he might be alert and uncompromising in the fighting. By this he wanted to point out also that he should not be similarly lenient in battle against the Pāṇḍavas- such leniency would lead to defeat.\"  \n",
       "3                                                                                                                                                                                                                                                                                                                                                                                                                                               Kaurava's Side:\\n-Drona\\n-Bhisma\\n-Karna\\n-Kripacarya\\n\\nPandava's Side:\\n-Arjuna\\n-Bhima\\n-Virata\\n-Drupada\\n-Abhimanyu  \n",
       "4    -\"The sounding of the transcendental conchshells of Krsna and Arjuna indicated that there was no hope of victory for the other side because Kṛṣṇa was on the side of the Pāṇḍavas.'\"\\n-While there was no fear in the Pandava's hearts when the Kaurava's blew their conch shells, \"the hearts of the sons of Dhṛtarāṣṭra were shattered by the sounds vibrated by the Pāṇḍavas' party. This is due to the Pāṇḍavas and their confidence in Lord Kṛṣṇa. One who takes shelter of the Supreme Lord has nothing to fear, even in the midst of the greatest calamity.\"  \n",
       "..                                                                                                                                                                                                                                                                                                                                                                                                                                                                                                                                                                   ...  \n",
       "134                                                                                                                                                                                                                                                                                                                               What is the destination of the transcendentalist who practiced yoga, but later stopped because of attachment to worldly things? Is such a person unable to enjoy material happiness or spiritual success and does he become forgotten?  \n",
       "135                                                                                                                                                                                                                                                                                                                                                                                                                          After enjoying life on the higher planets for a long time, he comes back to the Earth and takes birth in a pious or an aristocratic family.  \n",
       "136                                                                                                                                                                                                                                                                             He achieves the rare opportunity of taking birth in a family of transcendentalists that are great in wisdom. \"the child born in such a family receives a spiritual impetus from the very beginning of his life....such families are very learned and devoted by tradition and training.\"  \n",
       "137                                                                                                                                                                                                                               a) Yoga: linking our consciousness with the Supreme Absolute Truth\\nb) When the linking process is predominantly in fruitive activities it is called karma-yoga, when it is predominantly empirical it is called jñāna-yoga, and when it is predominantly in a devotional relationship with the Supreme Lord it is called bhakti-yoga.  \n",
       "138                        \"All yogas are progressions toward the destination of bhakti-yoga:\\n-Karma-yoga, without fruitive results, is the beginning of this path.\\n-When karma-yoga increases in knowledge and renunciation, the stage is called jñāna-yoga.\\n-When jñāna-yoga increases in meditation on the Supersoul by different physical processes, and the mind is on Him, it is called aṣṭāṅga-yoga.\\n-And when one surpasses the aṣṭāṅga-yoga and comes to the point of the Supreme Personality of Godhead Kṛṣṇa, it is called bhakti-yoga, the culmination.\"  \n",
       "\n",
       "[139 rows x 2 columns]"
      ]
     },
     "execution_count": 3,
     "metadata": {},
     "output_type": "execute_result"
    }
   ],
   "source": [
    "with open(\"q&a.txt\", \"r\", encoding=\"utf-8\") as f:\n",
    "    lines = f.read()\n",
    "\n",
    "cards = lines.split(\"^&*()\")\n",
    "cards.pop()\n",
    "\n",
    "questions = []\n",
    "answers = []\n",
    "\n",
    "for card in cards:\n",
    "    qa = card.split(\"!@#$%\")\n",
    "    questions.append(qa[0])\n",
    "    answers.append(qa[1])\n",
    "\n",
    "df = pd.DataFrame()\n",
    "df[\"question\"] = questions\n",
    "df[\"answer\"] = answers\n",
    "df"
   ]
  },
  {
   "cell_type": "code",
   "execution_count": 4,
   "metadata": {},
   "outputs": [],
   "source": [
    "df.to_csv(\"q&a.csv\", index=False)"
   ]
  },
  {
   "cell_type": "code",
   "execution_count": 5,
   "metadata": {},
   "outputs": [],
   "source": [
    "df.to_json(\"q&a.json\", orient=\"records\", indent=4)"
   ]
  },
  {
   "cell_type": "code",
   "execution_count": null,
   "metadata": {},
   "outputs": [],
   "source": []
  }
 ],
 "metadata": {
  "kernelspec": {
   "display_name": "venv",
   "language": "python",
   "name": "python3"
  },
  "language_info": {
   "codemirror_mode": {
    "name": "ipython",
    "version": 3
   },
   "file_extension": ".py",
   "mimetype": "text/x-python",
   "name": "python",
   "nbconvert_exporter": "python",
   "pygments_lexer": "ipython3",
   "version": "3.10.11"
  }
 },
 "nbformat": 4,
 "nbformat_minor": 2
}
